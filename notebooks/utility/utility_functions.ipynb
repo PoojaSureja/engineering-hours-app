{
 "cells": [
  {
   "cell_type": "code",
   "execution_count": 0,
   "metadata": {
    "application/vnd.databricks.v1+cell": {
     "cellMetadata": {
      "byteLimit": 2048000,
      "rowLimit": 10000
     },
     "inputWidgets": {},
     "nuid": "ab4798a1-7991-4306-8c48-f408565a9a6e",
     "showTitle": false,
     "tableResultSettingsMap": {},
     "title": ""
    }
   },
   "outputs": [],
   "source": [
    "from pyspark.sql.functions import (\n",
    "    col, sum as _sum, filter, when,concat, coalesce, lit, trim, expr, substring, locate,date_format,count,collect_set,concat_ws,countDistinct, first,\n",
    "     lower, rtrim, split, regexp_extract, regexp_replace, array_max)\n",
    "import datetime\n",
    "import re\n",
    "import seaborn as sns\n",
    "import sys\n",
    "import pandas as pd\n",
    "from pyspark.sql import functions as F\n",
    "from pyspark.sql import SparkSession\n",
    "from scipy import stats\n",
    "\n",
    "spark.conf.set(\"spark.sql.parquet.datetimeRebaseModeInRead\", \"LEGACY\") # Spark configuration for Parquet datetime handling"
   ]
  },
  {
   "cell_type": "code",
   "execution_count": 0,
   "metadata": {
    "application/vnd.databricks.v1+cell": {
     "cellMetadata": {
      "byteLimit": 2048000,
      "rowLimit": 10000
     },
     "inputWidgets": {},
     "nuid": "67bc3ad4-f442-4bcb-a9e1-27758afbb9f0",
     "showTitle": false,
     "tableResultSettingsMap": {},
     "title": ""
    }
   },
   "outputs": [],
   "source": [
    "def load_dataset(table_names, dataframe_names):\n",
    "    df_dict={}\n",
    "    if len(table_names) != len(dataframe_names):\n",
    "        raise ValueError(\"Mismatch between table names and dataframe names.\")\n",
    "    for i in range(len(table_names)):\n",
    "        df_dict[dataframe_names[i]] = spark.table(table_names[i])\n",
    "        globals().update(df_dict)"
   ]
  },
  {
   "cell_type": "code",
   "execution_count": 0,
   "metadata": {
    "application/vnd.databricks.v1+cell": {
     "cellMetadata": {
      "byteLimit": 2048000,
      "rowLimit": 10000
     },
     "inputWidgets": {},
     "nuid": "83986b80-895c-490d-8346-a32685a3cf4c",
     "showTitle": false,
     "tableResultSettingsMap": {},
     "title": ""
    }
   },
   "outputs": [],
   "source": [
    "def trim_and_lower(df, col_list):\n",
    "    for i in col_list:\n",
    "        df = df.withColumn(i, trim(lower(col(i))))\n",
    "    return df\n"
   ]
  },
  {
   "cell_type": "code",
   "execution_count": 0,
   "metadata": {
    "application/vnd.databricks.v1+cell": {
     "cellMetadata": {
      "byteLimit": 2048000,
      "rowLimit": 10000
     },
     "inputWidgets": {},
     "nuid": "c0a8dddb-2076-4a81-8aee-fddc2d084ad7",
     "showTitle": false,
     "tableResultSettingsMap": {},
     "title": ""
    }
   },
   "outputs": [],
   "source": [
    "def format_actual_hours(df_actual_hours_raw):\n",
    "\n",
    "    df_actual_hours_date_fix = (df_actual_hours_raw\n",
    "        .withColumn('ServiceDate', F.to_date('ServiceDate', 'dd-MM-yyyy'))\n",
    "        .withColumn('ServiceMonthYear', date_format(col('ServiceDate'), 'yyyy-MM'))                         \n",
    "    )\n",
    "\n",
    "    keep_columns = ['StockNo', 'TypeCode', 'Hours','ServiceSegment','ServiceMonthYear']\n",
    "\n",
    "    df_actual_hours_filtered = (df_actual_hours_date_fix\n",
    "        .select(keep_columns)\n",
    "    )\n",
    "\n",
    "    cols_to_trim_actual_hours = ['StockNo','ServiceSegment']\n",
    "\n",
    "    df_actual_hours_formatted = trim_and_lower(df_actual_hours_filtered, cols_to_trim_actual_hours)\n",
    "\n",
    "    return df_actual_hours_formatted\n",
    "\n"
   ]
  },
  {
   "cell_type": "code",
   "execution_count": 0,
   "metadata": {
    "application/vnd.databricks.v1+cell": {
     "cellMetadata": {},
     "inputWidgets": {},
     "nuid": "c998ad02-65da-4b58-b299-109a3cc6f0b4",
     "showTitle": false,
     "tableResultSettingsMap": {},
     "title": ""
    }
   },
   "outputs": [],
   "source": [
    "def format_EAC_hours(df_EAC_hours_raw):\n",
    "    keep_columns = ['StockNo', 'ProjectNo','SellPriceCAD','IndustryCode','Model','Stocktype']\n",
    "\n",
    "    df_EAC_hours_filtered = (df_EAC_hours_raw\n",
    "        .select(keep_columns)\n",
    "    )\n",
    "\n",
    "    cols_to_trim_EAC_hours = ['StockNo', 'ProjectNo','IndustryCode','Model','Stocktype']\n",
    "\n",
    "    df_EAC_hours_formatted = trim_and_lower(df_EAC_hours_filtered, cols_to_trim_EAC_hours)\n",
    "\n",
    "    return df_EAC_hours_formatted\n"
   ]
  },
  {
   "cell_type": "code",
   "execution_count": 0,
   "metadata": {
    "application/vnd.databricks.v1+cell": {
     "cellMetadata": {},
     "inputWidgets": {},
     "nuid": "b1abaf8a-42a8-4c4c-939c-29279345aa32",
     "showTitle": false,
     "tableResultSettingsMap": {},
     "title": ""
    }
   },
   "outputs": [],
   "source": [
    "def join_EAC_to_actual(df_actual_hours, df_EAC_hours):\n",
    "    df_joined = (df_actual_hours\n",
    "        .join(df_EAC_hours,\"StockNo\",\"left\")\n",
    "    )\n",
    "\n",
    "    return df_joined"
   ]
  },
  {
   "cell_type": "code",
   "execution_count": 0,
   "metadata": {
    "application/vnd.databricks.v1+cell": {
     "cellMetadata": {},
     "inputWidgets": {},
     "nuid": "8382270f-9cb1-45fd-b84a-4de38faab02b",
     "showTitle": false,
     "tableResultSettingsMap": {},
     "title": ""
    }
   },
   "outputs": [],
   "source": [
    "def clean_joined(df_dirty):\n",
    "    df_clean = (df_dirty\n",
    "        .filter(col(\"ProjectNo\").isNotNull())\n",
    "        .filter(col(\"hours\") > 0)            \n",
    "    )\n",
    "\n",
    "    return df_clean"
   ]
  },
  {
   "cell_type": "code",
   "execution_count": 0,
   "metadata": {
    "application/vnd.databricks.v1+cell": {
     "cellMetadata": {},
     "inputWidgets": {},
     "nuid": "7af0ada8-7375-427b-a212-485ef45336b5",
     "showTitle": false,
     "tableResultSettingsMap": {},
     "title": ""
    }
   },
   "outputs": [],
   "source": [
    "def add_recency_ind(df_with_ServiceMonthYear):\n",
    "    return df.withColumn('recency_ind', F.when((col('ServiceMonthYear')>= '2020-01'), 1).otherwise(0))"
   ]
  },
  {
   "cell_type": "code",
   "execution_count": 0,
   "metadata": {
    "application/vnd.databricks.v1+cell": {
     "cellMetadata": {
      "byteLimit": 2048000,
      "rowLimit": 10000
     },
     "inputWidgets": {},
     "nuid": "68a0bb02-80b6-46dd-8c0b-ed54c00f9559",
     "showTitle": false,
     "tableResultSettingsMap": {},
     "title": ""
    }
   },
   "outputs": [],
   "source": [
    "def compress_to_project_level(df_stock_level):\n",
    "    return (\n",
    "        df_stock_level\n",
    "        .groupBy(\"ProjectNo\")\n",
    "        .agg(\n",
    "            count(\"StockNo\").alias(\"stock_count\"),\n",
    "            countDistinct(\"model\").alias(\"UniqueModelCount\"),\n",
    "            F.median('recency_ind').cast('int').alias('recency_ind'),\n",
    "            _sum(\"Hours\").alias(\"hours\"),\n",
    "            _sum(\"SellPriceCAD\").alias(\"total_sell_price\"),\n",
    "            first(\"IndustryCode\").alias(\"industry_codes\"))\n",
    "    )"
   ]
  },
  {
   "cell_type": "code",
   "execution_count": 0,
   "metadata": {
    "application/vnd.databricks.v1+cell": {
     "cellMetadata": {},
     "inputWidgets": {},
     "nuid": "b929769a-c0ff-4f66-8f54-cc9bc2360863",
     "showTitle": false,
     "tableResultSettingsMap": {},
     "title": ""
    }
   },
   "outputs": [],
   "source": [
    "def filter_outliers(df_uncapped):\n",
    "    list_of_filter_vars = ['total_sell_price', 'hours', 'stock_count']\n",
    "    list_of_cutoffs = [1E8, 1500, 500]\n",
    "\n",
    "    for i in range(len(list_of_filter_vars)):\n",
    "        df_uncapped = df_uncapped.filter(col(list_of_filter_vars[i])<= list_of_cutoffs[i])\n",
    "\n",
    "    df_filtered = df_uncapped\n",
    "\n",
    "    return df_filtered"
   ]
  },
  {
   "cell_type": "code",
   "execution_count": 0,
   "metadata": {
    "application/vnd.databricks.v1+cell": {
     "cellMetadata": {},
     "inputWidgets": {},
     "nuid": "a952eb97-9db6-41f8-abf0-865747c519b5",
     "showTitle": false,
     "tableResultSettingsMap": {},
     "title": ""
    }
   },
   "outputs": [],
   "source": [
    "def bc_transform(df_raw_hours):\n",
    "    df_raw_pd = df_raw_hours.toPandas()\n",
    "    raw_hours = df_raw_pd['hours']\n",
    "    transformed_hours, bc_lambda = stats.boxcox(raw_hours)\n",
    "\n",
    "    df_transformed_pd = df_raw_pd.copy()\n",
    "    df_transformed_pd['hours'] = transformed_hours\n",
    "\n",
    "    df_transformed = spark.createDataFrame(df_transformed_pd)\n",
    "\n",
    "    return df_transformed, bc_lambda"
   ]
  }
 ],
 "metadata": {
  "application/vnd.databricks.v1+notebook": {
   "computePreferences": null,
   "dashboards": [],
   "environmentMetadata": {
    "base_environment": "",
    "environment_version": "2"
   },
   "inputWidgetPreferences": null,
   "language": "python",
   "notebookMetadata": {
    "pythonIndentUnit": 4
   },
   "notebookName": "utility_functions",
   "widgets": {}
  },
  "language_info": {
   "name": "python"
  }
 },
 "nbformat": 4,
 "nbformat_minor": 0
}
