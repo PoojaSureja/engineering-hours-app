{
 "cells": [
  {
   "cell_type": "code",
   "execution_count": 0,
   "metadata": {
    "application/vnd.databricks.v1+cell": {
     "cellMetadata": {
      "byteLimit": 2048000,
      "rowLimit": 10000
     },
     "inputWidgets": {},
     "nuid": "9e688bee-7e22-4f82-9744-ed8c18da9423",
     "showTitle": false,
     "tableResultSettingsMap": {},
     "title": ""
    }
   },
   "outputs": [],
   "source": [
    "pip install streamlit\n",
    "pip install streamlit requests\n"
   ]
  },
  {
   "cell_type": "code",
   "execution_count": 0,
   "metadata": {
    "application/vnd.databricks.v1+cell": {
     "cellMetadata": {},
     "inputWidgets": {},
     "nuid": "9495e6e3-2cca-4975-aef8-a1bfb4d6e47d",
     "showTitle": false,
     "tableResultSettingsMap": {},
     "title": ""
    }
   },
   "outputs": [],
   "source": [
    "import streamlit as st\n",
    "import requests\n",
    "\n",
    "# ✅ Correct way to use the secret value\n",
    "DATABRICKS_TOKEN = st.secrets[\"databricks_token\"]\n",
    "\n",
    "st.title(\"Engineering Hours Predictor\")\n",
    "st.write(\"Enter the values below to predict engineering hours\")\n",
    "\n",
    "# Input fields\n",
    "stock_count = st.number_input(\"Stock Count\", value=10)\n",
    "unique_model_count = st.number_input(\"Unique Model Count\", value=3)\n",
    "total_sell_price = st.number_input(\"Total Sell Price\", value=10000.0)\n",
    "ind_2020 = st.selectbox(\"Is Model from 2020?\", options=[0, 1])  # 0 = No, 1 = Yes\n",
    "\n",
    "# Predict button\n",
    "if st.button(\"Predict\"):\n",
    "    url = \"https://adb-3010693782896111.11.azuredatabricks.net/serving-endpoints/imacs_engineering-hours-predictor/invocations\"\n",
    "\n",
    "    headers = {\n",
    "        \"Authorization\": f\"Bearer {DATABRICKS_TOKEN}\",  # ✅ Use Bearer and actual token value\n",
    "        \"Content-Type\": \"application/json\"\n",
    "    }\n",
    "\n",
    "    payload = {\n",
    "        \"dataframe_split\": {\n",
    "            \"columns\": [\"stock_count\", \"UniqueModelCount\", \"total_sell_price\", \"2020_ind\"],\n",
    "            \"data\": [[stock_count, unique_model_count, total_sell_price, ind_2020]]\n",
    "        }\n",
    "    }\n",
    "\n",
    "    try:\n",
    "        response = requests.post(url, headers=headers, json=payload)\n",
    "        result = response.json()\n",
    "\n",
    "        # ✅ You might want to extract just the prediction if it's inside a key like 'predictions'\n",
    "        st.success(f\"Predicted Hours: {result}\")\n",
    "    except Exception as e:\n",
    "        st.error(f\"Error occurred: {str(e)}\")\n"
   ]
  }
 ],
 "metadata": {
  "application/vnd.databricks.v1+notebook": {
   "computePreferences": null,
   "dashboards": [],
   "environmentMetadata": {
    "base_environment": "",
    "environment_version": "2"
   },
   "inputWidgetPreferences": null,
   "language": "python",
   "notebookMetadata": {
    "pythonIndentUnit": 4
   },
   "notebookName": "predict_app.py",
   "widgets": {}
  },
  "language_info": {
   "name": "python"
  }
 },
 "nbformat": 4,
 "nbformat_minor": 0
}
